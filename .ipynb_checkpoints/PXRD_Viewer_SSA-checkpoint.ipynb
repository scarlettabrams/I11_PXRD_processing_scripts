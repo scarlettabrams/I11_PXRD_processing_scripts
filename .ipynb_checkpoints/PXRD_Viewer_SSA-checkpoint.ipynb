{
 "cells": [
  {
   "cell_type": "markdown",
   "id": "1ef144ab-493b-476a-9c82-639b03538a05",
   "metadata": {},
   "source": [
    "# PXRD_Viewer_SSA\n",
    "### PXRD Interactice Viewer for previously plotted 1D data \n",
    " - use 07_PXRD_Pattern_Stacking_SSA.ipynb first to get plots that can then be loaded in here. "
   ]
  },
  {
   "cell_type": "code",
   "execution_count": null,
   "id": "c3113c91-e53b-4651-8661-d18f8fb9a449",
   "metadata": {},
   "outputs": [],
   "source": [
    "# imports \n",
    "\n",
    "import pandas as pd \n",
    "import plotly.graph_objects as go \n",
    "import os "
   ]
  },
  {
   "cell_type": "code",
   "execution_count": null,
   "id": "3296522b-0e15-48fb-96c0-7d388b90df19",
   "metadata": {},
   "outputs": [],
   "source": [
    "#Load data made in 07_PXRD_Pattern_stacking_SSA \n",
    "\n",
    "data_folder = \"D:/I11 Beamtime July/Powder_patterns/Run_thresh/\" #\"D:/route/to/stack/pxrd/plot/\"\n",
    "excel_path = os.path.join(data_folder, \"07_run_thresh_stacked_patterns.xlsx\") #link to excel file within this folder\n",
    "\n",
    "df = pd.read_excel(excel_path)\n",
    "print(df.columns)\n"
   ]
  },
  {
   "cell_type": "code",
   "execution_count": null,
   "id": "355b770b-d398-4076-bbd3-8f7e66cb3c81",
   "metadata": {},
   "outputs": [],
   "source": [
    "# Indentify reference pattrens \n",
    "\n",
    "cols = df.columns[1:]  # skip the '2theta' column\n",
    "ref_cols = [c for c in cols if \"ref\" in c.lower() or \"lhistd\" in c.lower()] #state here keywords for referenvce patterns \n",
    "nonref_cols = [c for c in cols if c not in ref_cols]\n",
    "\n",
    "#Sort so references appear at the bottom\n",
    "ordered_cols = ref_cols + nonref_cols\n"
   ]
  },
  {
   "cell_type": "code",
   "execution_count": null,
   "id": "dddd7038-7260-42e1-800d-88eb977ce1ca",
   "metadata": {},
   "outputs": [],
   "source": [
    "#Interactive GUI Stack Plot \n",
    "fig = go.Figure()\n",
    "offset = 0\n",
    "offset_step = df.iloc[:, 1:].max().max() * 1.1  # <<---vertical offset - change accordingly \n",
    "\n",
    "for col in ordered_cols:\n",
    "    fig.add_trace(go.Scatter(\n",
    "        x=df[\"2theta\"],\n",
    "        y=df[col] + offset,\n",
    "        mode='lines',\n",
    "        name=col,\n",
    "        line=dict(width=1.5),\n",
    "        hovertemplate=f\"<b>{col}</b><br>2θ: %{{x:.2f}}°<br>Intensity: %{{y:.0f}}<extra></extra>\"\n",
    "    ))\n",
    "    offset += offset_step\n",
    "\n",
    "#Make the figure \n",
    "fig.update_layout(\n",
    "    title=\"PXRD Interactive Stack Plot\",\n",
    "    xaxis_title=\"2θ (degrees)\",\n",
    "    yaxis_title=\"Intensity (offset)\",\n",
    "    template=\"plotly_white\",\n",
    "    hovermode=\"closest\",\n",
    "    legend=dict(\n",
    "        x=1,\n",
    "        y=0.95,\n",
    "        xanchor=\"right\",\n",
    "        yanchor=\"top\",\n",
    "        bgcolor=\"rgba(255,255,255,0.7)\",\n",
    "        traceorder=\"reversed\"  \n",
    "    ),\n",
    "    height=800,\n",
    ")\n",
    "\n",
    "fig.update_xaxes(automargin=True, tickmode=\"auto\", nticks=15) #tick marks \n",
    "\n",
    "\n",
    "print (\"Click on Legend to Select/ De-select Data Set\")\n",
    "fig.show()\n"
   ]
  },
  {
   "cell_type": "code",
   "execution_count": null,
   "id": "beb120a0-7338-4be4-8240-82f0d6d557e9",
   "metadata": {},
   "outputs": [],
   "source": [
    "#Export stacked PXRD data to Excel + Interactive HTML <<-- Data to send Karen \n",
    "# Define save paths\n",
    "stacked_excel_path = os.path.join(data_folder, \"Run_Thresholded_stacked_powder_patterns.xlsx\")\n",
    "html_path = os.path.join(data_folder, \"Run_Thresholded_interactive_stack_plot.html\")\n",
    "\n",
    "#1. Save Excel file (2theta + each dataset as a column)\n",
    "# --- Copy the dataframe so we can modify it for stacked view ---\n",
    "df_stacked = df.copy()\n",
    "\n",
    "# --- Define vertical offset ---\n",
    "# You can adjust this factor depending on your data intensity range\n",
    "max_intensity = df_stacked.iloc[:, 1:].max().max()\n",
    "offset_step = max_intensity * 1.1  # same as used in interactive plot\n",
    "\n",
    "# --- Apply offsets to each pattern column (skip 2theta) ---\n",
    "for i, col in enumerate(df_stacked.columns[1:]):\n",
    "    df_stacked[col] = df_stacked[col] + i * offset_step\n",
    "\n",
    "# --- Save to Excel ---\n",
    "df_stacked.to_excel(stacked_excel_path, index=False)\n",
    "\n",
    "print(f\"✅ Stacked Excel file saved and ready to view: {stacked_excel_path}\")\n",
    "\n",
    "#2. Save interactive Plotly viewer as HTML\n",
    "fig.write_html(html_path, include_plotlyjs='cdn')\n",
    "\n",
    "\n",
    "print(f\"✅ Interactive HTML viewer saved to:\\n{html_path}\")\n",
    "print(\"\\nBoth files are in your data_folder and can be opened directly (Excel for data, browser for the interactive plot).\")\n"
   ]
  },
  {
   "cell_type": "code",
   "execution_count": null,
   "id": "c80562b6-ccb7-403f-abca-920d7598aed7",
   "metadata": {},
   "outputs": [],
   "source": []
  }
 ],
 "metadata": {
  "kernelspec": {
   "display_name": "Python 3 (ipykernel)",
   "language": "python",
   "name": "python3"
  },
  "language_info": {
   "codemirror_mode": {
    "name": "ipython",
    "version": 3
   },
   "file_extension": ".py",
   "mimetype": "text/x-python",
   "name": "python",
   "nbconvert_exporter": "python",
   "pygments_lexer": "ipython3",
   "version": "3.12.3"
  }
 },
 "nbformat": 4,
 "nbformat_minor": 5
}
