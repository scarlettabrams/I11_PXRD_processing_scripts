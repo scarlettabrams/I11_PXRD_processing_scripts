{
 "cells": [
  {
   "cell_type": "markdown",
   "id": "874ee183-0206-4a48-937f-a764a8b68b3e",
   "metadata": {},
   "source": [
    "# 07_PXRD_Pattern_Stacking_SSA\n",
    "\n",
    "### Developed by SSA to make stack plots of PXRD patterns"
   ]
  },
  {
   "cell_type": "code",
   "execution_count": null,
   "id": "a90692ee-e92a-45a6-b5ca-48d679415462",
   "metadata": {},
   "outputs": [],
   "source": [
    "import os\n",
    "import glob\n",
    "import numpy as np\n",
    "import pandas as pd\n",
    "import matplotlib.pyplot as plt"
   ]
  },
  {
   "cell_type": "code",
   "execution_count": null,
   "id": "9bf15551-9098-4f5d-b0c2-ef8426dc95dd",
   "metadata": {},
   "outputs": [],
   "source": [
    "#Location to  processed .xy files \n",
    "\n",
    "data_folder = \"D:/I11 Beamtime July/Powder_patterns/processing_technique_comp/\"    # folder containing your .xy files\n",
    "outfile_excel = os.path.join(data_folder, \"07_technique_comparison_stacked_patterns.xlsx\")\n",
    "outfile_png = os.path.join(data_folder, \"07_technique_comparison_stacked_patterns.png\")\n",
    "\n",
    "two_theta_min = 2.0\n",
    "two_theta_max = 30.0\n",
    "two_theta_step = 0.02\n",
    "\n",
    "normalize = True       # scale each pattern to max = 1\n",
    "offset_step = 1.25      # vertical offset between stacked patterns\n",
    "baseline_window = 51    # rolling median window for background removal (None to disable)\n"
   ]
  },
  {
   "cell_type": "code",
   "execution_count": null,
   "id": "b4f94254-057c-4dd3-b426-4de29419f7a8",
   "metadata": {},
   "outputs": [],
   "source": [
    "#define refernce patterns to be put at bottom of stack plot \n",
    "\n",
    "reference_keywords = [\"LHISTD\", \"sim\", \"ref\", \"calc\", \"theory\", \"mercury\"]\n",
    "# any file with one of these words in its name will be treated as a reference pattern\n"
   ]
  },
  {
   "cell_type": "code",
   "execution_count": null,
   "id": "bb92099b-fa45-4493-9adc-1c45a951562b",
   "metadata": {},
   "outputs": [],
   "source": [
    "#Functions\n",
    "def read_xy(filepath):\n",
    "    \"\"\"Read a 2-column .xy file, skipping any headers.\"\"\"\n",
    "    x, y = [], []\n",
    "    with open(filepath, 'r') as f:\n",
    "        for line in f:\n",
    "            parts = line.strip().split()\n",
    "            if len(parts) < 2:\n",
    "                continue\n",
    "            try:\n",
    "                x.append(float(parts[0]))\n",
    "                y.append(float(parts[1]))\n",
    "            except ValueError:\n",
    "                continue\n",
    "    return np.array(x), np.array(y)\n",
    "\n",
    "def rolling_median(y, window=51):\n",
    "    \"\"\"Simple rolling median baseline.\"\"\"\n",
    "    s = pd.Series(y)\n",
    "    baseline = s.rolling(window, center=True, min_periods=1).median()\n",
    "    return baseline.to_numpy()\n"
   ]
  },
  {
   "cell_type": "code",
   "execution_count": null,
   "id": "1e792db8-7375-408d-9203-e4ea75fbf56e",
   "metadata": {},
   "outputs": [],
   "source": [
    "filelist = sorted(glob.glob(os.path.join(data_folder, \"*.xy\")) + \n",
    "                  glob.glob(os.path.join(data_folder, \"*.txt\")))\n",
    "\n",
    "if not filelist:\n",
    "    raise SystemExit(f\"No .xy or .txt files found in {data_folder}\")\n",
    "\n",
    "# Split into reference and experimental based on keywords\n",
    "ref_files = [f for f in filelist if any(k.lower() in os.path.basename(f).lower() for k in reference_keywords)]\n",
    "exp_files = [f for f in filelist if f not in ref_files]\n",
    "\n",
    "# Merge lists: reference first (to plot at bottom), experimental after\n",
    "ordered_files = ref_files + exp_files\n",
    "\n",
    "grid = np.arange(two_theta_min, two_theta_max, two_theta_step)\n",
    "df = pd.DataFrame({\"2theta\": grid})\n",
    "\n",
    "plt.figure(figsize=(8, 10))\n",
    "colors = plt.cm.viridis(np.linspace(0, 1, len(ordered_files)))\n",
    "handles, labels = [], []\n",
    "\n",
    "for i, fpath in enumerate(ordered_files):\n",
    "    name = os.path.splitext(os.path.basename(fpath))[0]\n",
    "    x, y = read_xy(fpath)\n",
    "    if len(x) == 0:\n",
    "        print(f\"⚠️ Skipping {name} (no data read)\")\n",
    "        continue\n",
    "\n",
    "    # interpolate onto common grid\n",
    "    y_interp = np.interp(grid, x, y, left=0, right=0)\n",
    "\n",
    "    # baseline correction\n",
    "    if baseline_window:\n",
    "        baseline = rolling_median(y_interp, baseline_window)\n",
    "        y_corr = np.clip(y_interp - baseline, 0, None)\n",
    "    else:\n",
    "        y_corr = y_interp\n",
    "\n",
    "    # normalize\n",
    "    if normalize and y_corr.max() > 0:\n",
    "        y_corr /= y_corr.max()\n",
    "\n",
    "    # save to DataFrame\n",
    "    df[name] = y_corr\n",
    "\n",
    "    # decide if reference\n",
    "    is_ref = fpath in ref_files\n",
    "    style = '--' if is_ref else '-'\n",
    "    color = \"red\" if is_ref else colors[i]\n",
    "\n",
    "    # plot stacked\n",
    "    line, = plt.plot(grid, y_corr + i * offset_step, style, color=color, label=name, linewidth=1.2)\n",
    "    handles.append(line)\n",
    "    labels.append(name)\n",
    "\n",
    "# --- Legend ---\n",
    "plt.legend(handles, labels, loc='upper right', fontsize=8, frameon=False)\n",
    "\n",
    "# --- Figure formatting ---\n",
    "plt.xlabel(\"2θ (°)\")\n",
    "plt.ylabel(\"Normalised intensity + offset\")\n",
    "plt.xlim(two_theta_min, two_theta_max)\n",
    "plt.tight_layout()\n",
    "plt.savefig(outfile_png, dpi=300)\n",
    "plt.show()\n",
    "\n",
    "# --- Export combined data ---\n",
    "df.to_excel(outfile_excel, index=False)\n",
    "print(f\"\\n✅ Exported stacked Excel: {outfile_excel}\")\n",
    "print(f\"✅ Saved figure with legend: {outfile_png}\")"
   ]
  },
  {
   "cell_type": "code",
   "execution_count": null,
   "id": "48ce5362-ade3-4907-97a5-47488ff37c89",
   "metadata": {},
   "outputs": [],
   "source": []
  },
  {
   "cell_type": "code",
   "execution_count": null,
   "id": "ea4c0f64-7dd3-4dcc-a6bb-0d094ba815d1",
   "metadata": {},
   "outputs": [],
   "source": []
  }
 ],
 "metadata": {
  "kernelspec": {
   "display_name": "Python 3 (ipykernel)",
   "language": "python",
   "name": "python3"
  },
  "language_info": {
   "codemirror_mode": {
    "name": "ipython",
    "version": 3
   },
   "file_extension": ".py",
   "mimetype": "text/x-python",
   "name": "python",
   "nbconvert_exporter": "python",
   "pygments_lexer": "ipython3",
   "version": "3.12.3"
  }
 },
 "nbformat": 4,
 "nbformat_minor": 5
}
