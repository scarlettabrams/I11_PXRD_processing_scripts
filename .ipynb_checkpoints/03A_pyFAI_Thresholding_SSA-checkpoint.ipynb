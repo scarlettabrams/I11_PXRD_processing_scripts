{
 "cells": [
  {
   "cell_type": "markdown",
   "id": "c62be7b8-2fd4-4e09-9c68-73510151b1b9",
   "metadata": {},
   "source": [
    "# 03_pyFAI Thresholding"
   ]
  },
  {
   "cell_type": "markdown",
   "id": "a168a6f7-5cba-451e-beb5-f6f2a01aa4c2",
   "metadata": {},
   "source": [
    "SSA adapted and developed from original code provided by Beth Galtry"
   ]
  },
  {
   "cell_type": "markdown",
   "id": "cfb7f63b-a40a-4fa3-a7ca-1399ec1e3eb3",
   "metadata": {},
   "source": [
    "converts 2D detector images into 1D diffraction patterns (I vs 2theta)\n"
   ]
  },
  {
   "cell_type": "markdown",
   "id": "c5095cb3-afd4-4ab7-9a73-829ab5a0b53e",
   "metadata": {},
   "source": [
    "applies 'thresholding' to seperate signal to noise "
   ]
  },
  {
   "cell_type": "markdown",
   "id": "112adf89-54d7-41d7-9e6e-c75f5293c5f4",
   "metadata": {},
   "source": [
    "output: individual integrated 1D patterns for each collection in a run :) "
   ]
  },
  {
   "cell_type": "code",
   "execution_count": null,
   "id": "dc624661-17ea-4f9d-98fa-dc85080e5ef2",
   "metadata": {
    "scrolled": true
   },
   "outputs": [],
   "source": [
    "# beth \n",
    "#import relevant modules \n",
    "import numpy as np\n",
    "import matplotlib.pyplot as plt\n",
    "import h5py\n",
    "import os\n",
    "import matplotlib as mpl\n",
    "import pandas as pd        \n",
    "import math\n",
    "\n",
    "import sys\n",
    "!{sys.executable} -m pip install pyFAI\n",
    "import pyFAI\n",
    "from pyFAI.gui import jupyter\n",
    "\n",
    "!{sys.executable} -m pip install pybaselines\n",
    "from pybaselines import Baseline\n",
    "from pybaselines.utils import gaussian\n",
    "\n",
    "pi = math.pi"
   ]
  },
  {
   "cell_type": "markdown",
   "id": "4c97e4d3-6968-4071-9d0e-39ab5aa83589",
   "metadata": {},
   "source": [
    "### Define the diffraction frame to be read in "
   ]
  },
  {
   "cell_type": "code",
   "execution_count": null,
   "id": "88d1cbc7-f412-4d17-9306-49dc86cd5108",
   "metadata": {},
   "outputs": [],
   "source": [
    "#scarlett adaptations \n",
    "# data file from I11 in form i11-1-61284.nxs, adjust depending on data name and format\n",
    "\n",
    "\n",
    "from pathlib import Path\n",
    "\n",
    "data_file_no = \"108040\"\n",
    "data_dir = Path(\"D:/I11 Beamtime July/RAW_2D/Run_7_X1_0.5VF/\")  #this is the generic path \"C:/path/to/your/data/file/\"\n",
    "\n",
    "file_path = data_dir / f\"i11-1-{data_file_no}.nxs\"\n",
    "\n",
    "if file_path.exists():\n",
    "    print(f\"File loaded successfully: {file_path}\")\n",
    "else:\n",
    "    print(f\"Error: File not found at {file_path}\")\n"
   ]
  },
  {
   "cell_type": "code",
   "execution_count": null,
   "id": "bd722258-d751-4e97-bc75-b4f505880a77",
   "metadata": {
    "jupyter": {
     "source_hidden": true
    }
   },
   "outputs": [],
   "source": [
    "#beth \n",
    "# creation of folder to store processed information\n",
    "#processing_folder = \"processed_patterns/individual_frames/\"\n",
    "#processing_path = os.path.join(data_dir,processing_folder)\n",
    "\n",
    "\n",
    "#if not os.path.exists(processing_path):\n",
    "    #os.makedirs(processing_path)"
   ]
  },
  {
   "cell_type": "code",
   "execution_count": null,
   "id": "e2df4460-d784-4ac1-97f1-c6bfa2f3c313",
   "metadata": {
    "scrolled": true
   },
   "outputs": [],
   "source": [
    "#beth \n",
    "with h5py.File(file_path, 'r') as dat:\n",
    "    \n",
    "    #load in as (1,2881, 2880) shape array\n",
    "    myData = np.array(dat[\"/entry1/pixium_hdf/data\"][()][:]) \n",
    "    \n",
    "    #extract only (2881,2880)\n",
    "    diff_frame = myData.reshape(myData.shape[1:])\n",
    "    \n",
    "total_intensity = np.sum(diff_frame)\n",
    "\n",
    "diff_frame"
   ]
  },
  {
   "cell_type": "code",
   "execution_count": null,
   "id": "520dd02f-90d1-462a-9c9b-c98da66c8fda",
   "metadata": {},
   "outputs": [],
   "source": [
    "#beth \n",
    "# visualise chosen diffraction frame\n",
    "\n",
    "plt.rcParams[\"figure.figsize\"]=14,14\n",
    "plt.title(data_file_no, fontsize=24)\n",
    "plt.imshow(diff_frame, cmap='gray', vmin=0, vmax=300)\n",
    "plt.colorbar()\n",
    "plt.show()"
   ]
  },
  {
   "cell_type": "code",
   "execution_count": null,
   "id": "2f2cff19-ad8c-4164-bc60-3418013c5bc6",
   "metadata": {},
   "outputs": [],
   "source": [
    "#beth \n",
    "# specify background directory location from diffraction_sorting.py step for collection set\n",
    "# also need to be .nxs files\n",
    "\n",
    "background_dir = \"D:/I11 Beamtime July/RAW_2D/Run_7_X1_0.5VF/Potential backgrounds\" #generic backgrounds \"C:/path/to/your/background/frames/\"\n",
    "count = 0\n",
    "bg_file_nxs = []\n",
    "\n",
    "# Count the number of .nxs files in directory\n",
    "for files in os.listdir(background_dir):\n",
    "    filename = os.fsdecode(files)\n",
    "    if filename.endswith(\".nxs\"):\n",
    "        bg_file_nxs.append(filename)\n",
    "        count += 1\n",
    "print('File count:', count)\n",
    "print(bg_file_nxs)"
   ]
  },
  {
   "cell_type": "code",
   "execution_count": null,
   "id": "0a717496-64c9-4f74-a601-3e93a6e4c4f7",
   "metadata": {},
   "outputs": [],
   "source": [
    "#scarlett adaptations \n",
    "# read in background frames and calculate total counts\n",
    "\n",
    "\n",
    "background_dir = \"D:/I11 Beamtime July/RAW_2D/Run_7_X1_0.5VF/Potential backgrounds\"\n",
    "bg_file_nxs = [f for f in os.listdir(background_dir) if f.endswith(\".nxs\")]\n",
    "count = len(bg_file_nxs)\n",
    "\n",
    "# hard-coded detector size\n",
    "rows, cols = 2881, 2880\n",
    "\n",
    "bg_frame_sized = np.zeros((count, rows, cols))\n",
    "basic_bg_sub   = np.zeros((count, rows, cols))\n",
    "total_intensity = np.zeros(count)\n",
    "\n",
    "for a in range(count):\n",
    "    with h5py.File(os.path.join(background_dir, bg_file_nxs[a]), 'r') as dat:\n",
    "        background_frame = np.array(dat[\"/entry1/pixium_hdf/data\"][()])\n",
    "        bg_frame_sized[a] = background_frame.reshape(rows, cols)\n",
    "        basic_bg_sub[a] = np.subtract(diff_frame, bg_frame_sized[a])\n",
    "        basic_bg_sub[a][basic_bg_sub[a] < 0] = 0\n",
    "        total_intensity[a] = np.sum(basic_bg_sub[a])\n"
   ]
  },
  {
   "cell_type": "code",
   "execution_count": null,
   "id": "2c8e96c8-989b-44b6-996c-12a90b8db00b",
   "metadata": {},
   "outputs": [],
   "source": [
    "# scarlett adaptations \n",
    "# visualisation of background best fit checks. \n",
    "\n",
    "import math\n",
    "\n",
    "cols = 3\n",
    "rows = math.ceil(count / cols)\n",
    "\n",
    "fig, axs = plt.subplots(rows, cols, figsize=(15, rows*5), facecolor='w', edgecolor='k')\n",
    "fig.subplots_adjust(hspace=.5, wspace=.001)\n",
    "axs = axs.ravel()\n",
    "\n",
    "for i in range(count):\n",
    "    fig.suptitle('Basic background subtraction best fit check', fontsize=24)\n",
    "    axs[i].imshow(basic_bg_sub[i], cmap='gray', vmin=0, vmax=100)\n",
    "    axs[i].set_title(f\"{bg_file_nxs[i]}\\nTotal intensity: {round(total_intensity[i])}\",\n",
    "                     fontweight='bold')\n",
    "\n",
    "# hide any unused subplots if rows*cols > count\n",
    "for j in range(count, len(axs)):\n",
    "    fig.delaxes(axs[j])\n"
   ]
  },
  {
   "cell_type": "code",
   "execution_count": null,
   "id": "bff0ed03-cb3e-4d36-a977-a3fbe70463b9",
   "metadata": {
    "jupyter": {
     "source_hidden": true
    }
   },
   "outputs": [],
   "source": [
    "#beth code \n",
    "# autoselection of best-fit background\n",
    "\n",
    "#chosen_bg_name = bg_file_nxs[np.argmin(total_intensity)] \n",
    "\n",
    "#chosen_bg = bg_frame_sized[np.argmin(total_intensity)]\n",
    "\n",
    "#print('Chosen background: ' + str(chosen_bg_name) + '\\nTotal intensity: ' + str(total_intensity[np.argmin(total_intensity)]))\n",
    "#print('chosen background:' + chosen_bg)"
   ]
  },
  {
   "cell_type": "code",
   "execution_count": null,
   "id": "a00c3bdc-d99c-4ca1-8353-5d94147b2c9a",
   "metadata": {},
   "outputs": [],
   "source": [
    "#Scarlett adaptation for manual overwrite of background selection if wants \n",
    "# automatic choice\n",
    "auto_idx = np.argmin(total_intensity)\n",
    "\n",
    "# --- manual overwrite (pick index manually) ---\n",
    "manual_idx = None # <- change this to whichever background you want - write None for automatic indexing - indexing starts at 0!!!\n",
    "\n",
    "# use manual if set, otherwise fallback to auto\n",
    "idx = manual_idx if manual_idx is not None else auto_idx\n",
    "\n",
    "chosen_bg_name = bg_file_nxs[idx]\n",
    "chosen_bg = bg_frame_sized[idx]\n",
    "\n",
    "print('Chosen background: ' + str(chosen_bg_name) + \n",
    "      '\\nTotal intensity: ' + str(total_intensity[idx]))\n"
   ]
  },
  {
   "cell_type": "markdown",
   "id": "1169b557-4535-4365-a033-8ff133774c29",
   "metadata": {},
   "source": [
    "\n",
    "this should have suggested the best background file for that collection - check against visualisation."
   ]
  },
  {
   "cell_type": "code",
   "execution_count": null,
   "id": "dce19ef0-a911-4f65-97ba-aafdfc48b868",
   "metadata": {
    "scrolled": true
   },
   "outputs": [],
   "source": [
    "#beth\n",
    "# visualisation of chosen background frame\n",
    "\n",
    "plt.rcParams[\"figure.figsize\"]=14,14\n",
    "plt.title(chosen_bg_name, fontsize=24)\n",
    "plt.imshow(chosen_bg, cmap='gray', vmin=0, vmax=500)\n",
    "plt.colorbar()\n",
    "plt.show()"
   ]
  },
  {
   "cell_type": "code",
   "execution_count": null,
   "id": "586052c7-fe58-4f56-a16f-d0ffe6c62367",
   "metadata": {},
   "outputs": [],
   "source": [
    "#beth\n",
    "# background subtraction of background frame from diffraction frame\n",
    "\n",
    "pattern_process = diff_frame - chosen_bg\n",
    "\n",
    "basic_pattern_name = data_file_no + \"_bg_\" + chosen_bg_name[6:-4]\n",
    "basic_pattern_name"
   ]
  },
  {
   "cell_type": "code",
   "execution_count": null,
   "id": "59e03cbf-b07c-4f3c-92e7-465e6fb4b88a",
   "metadata": {},
   "outputs": [],
   "source": [
    "#beth \n",
    "# visualisation of basic background subtraction\n",
    "\n",
    "\n",
    "\n",
    "plt.rcParams[\"figure.figsize\"]=14,14\n",
    "plt.title(basic_pattern_name, fontsize=24)\n",
    "plt.imshow(pattern_process, cmap='gray', vmin=0, vmax=100)\n",
    "plt.colorbar()\n",
    "#plt.savefig(processing_path + basic_pattern_name +\".png\")\n",
    "plt.show()"
   ]
  },
  {
   "cell_type": "code",
   "execution_count": null,
   "id": "4d093f08-6873-4502-9fcd-2d3345861741",
   "metadata": {},
   "outputs": [],
   "source": [
    "# Scarlett\n",
    "# save the initial Background Subtraction!!\n",
    "\n",
    "# state base directory \n",
    "base_dir = r\"D:/I11 Beamtime July/RAW_2D/Run_7_X1_0.5VF/\"\n",
    "\n",
    "# save new directory inside of it :) \n",
    "save_dir = os.path.join(base_dir, \"basic_bg_subtraction\")\n",
    "os.makedirs(save_dir, exist_ok=True)\n",
    "\n",
    "# save data array \n",
    "npy_path = os.path.join(save_dir, basic_pattern_name + \"_process.npy\")\n",
    "np.save(npy_path, pattern_process)\n",
    "\n",
    "\n",
    "# re-create the figure (same as before)\n",
    "plt.rcParams[\"figure.figsize\"]=14,14\n",
    "plt.title(basic_pattern_name, fontsize=24)\n",
    "plt.imshow(pattern_process, cmap='gray', vmin=0, vmax=100)\n",
    "plt.colorbar()\n",
    "\n",
    "# save figure\n",
    "png_path = os.path.join(save_dir, basic_pattern_name + \"_process.png\")\n",
    "plt.savefig(png_path, dpi=300, bbox_inches=\"tight\")\n",
    "plt.close()  # close so it doesn’t pop up again\n",
    "\n",
    "print(f\"Saved data to {npy_path}\")\n",
    "print(f\"Saved figure to {png_path}\")\n"
   ]
  },
  {
   "cell_type": "markdown",
   "id": "f9d4ba77-3496-4807-97ec-e3e5909e711e",
   "metadata": {},
   "source": [
    "# Thresholding "
   ]
  },
  {
   "cell_type": "markdown",
   "id": "50740ff4-c341-4fb1-a732-7d148086daec",
   "metadata": {},
   "source": [
    "now we have a better 2D pattern, try seperate a bit of the signal from noise in teh diffraction pattern "
   ]
  },
  {
   "cell_type": "code",
   "execution_count": null,
   "id": "638c7dfd-7b1e-45da-9c3a-8c19ada950e6",
   "metadata": {},
   "outputs": [],
   "source": [
    "#beth \n",
    "# thresholding to remove remaining noise - change threshold_value\n",
    "\n",
    "pattern_processing = diff_frame - chosen_bg\n",
    "\n",
    "threshold_value = 30 #120 was the value when Beth handed code over just fyi :) - higher the value - more 'masking'out of noise (been finding 70 has been working generaly) \n",
    "\n",
    "pattern_processing[pattern_processing < threshold_value] = 0\n",
    "\n",
    "thresholded_frame = pattern_processing"
   ]
  },
  {
   "cell_type": "code",
   "execution_count": null,
   "id": "c120923b-8c77-49d6-a31f-d0362ba8e396",
   "metadata": {},
   "outputs": [],
   "source": [
    "#beth \n",
    "# visualise thresholding, change threshold value if noise remains\n",
    "\n",
    "threshold_pattern_name = data_file_no + \"_bg_\" + chosen_bg_name[6:-4] + \"_threshold_\" + str(threshold_value)\n",
    "\n",
    "plt.rcParams[\"figure.figsize\"]=14,14\n",
    "plt.title(threshold_pattern_name, fontsize=24)\n",
    "plt.imshow(thresholded_frame, cmap='gray', vmin=20, vmax=100)\n",
    "plt.colorbar()\n",
    "#plt.savefig(processing_path + threshold_pattern_name + \".png\")\n",
    "plt.show()"
   ]
  },
  {
   "cell_type": "markdown",
   "id": "c29bca35-ac89-4c3c-a36e-62565214acaa",
   "metadata": {
    "jp-MarkdownHeadingCollapsed": true
   },
   "source": [
    "# Load Calibration File \n"
   ]
  },
  {
   "cell_type": "markdown",
   "id": "86159c6f-5c9b-411d-8f7f-7870354b400e",
   "metadata": {},
   "source": [
    "pyFai: https://pyfai.readthedocs.io/en/v2023.1/"
   ]
  },
  {
   "cell_type": "markdown",
   "id": "a8ade021-e4aa-4de0-a876-562f099cd439",
   "metadata": {},
   "source": [
    "calibration complete via pyFAI-calib2 tool "
   ]
  },
  {
   "cell_type": "code",
   "execution_count": null,
   "id": "13c687c5-aa73-47dd-926d-58316a6398e2",
   "metadata": {},
   "outputs": [],
   "source": [
    "#beth \n",
    "# load the calibration .poni file \n",
    "calibration = pyFAI.load('D:/I11 Beamtime July/calib_kap.poni')  #('C:/poni/file/location/calibration.poni')\n",
    "calibration"
   ]
  },
  {
   "cell_type": "code",
   "execution_count": null,
   "id": "b10b11ac-f84b-4e09-9438-e3acf76edf91",
   "metadata": {},
   "outputs": [],
   "source": [
    "#beth \n",
    "#load mask for detector frame \n",
    "oneD_mask = np.load(\"D:/I11 Beamtime July/calib_kap_mask.npy\") #(\"C:/mask/file/location/mask.npy\")\n"
   ]
  },
  {
   "cell_type": "markdown",
   "id": "62eaeb27-4a4a-4857-8c15-8faec05c7ef1",
   "metadata": {},
   "source": [
    "# Integration using pyFAI module "
   ]
  },
  {
   "cell_type": "markdown",
   "id": "6a36c98a-5d4b-4e6b-9896-746cc13c05bc",
   "metadata": {},
   "source": [
    "### Fast Azimuthal Integration using Python - pyFAI: https://pyfai.readthedocs.io/en/v2023.1/"
   ]
  },
  {
   "cell_type": "markdown",
   "id": "266a26f0-944e-4d5f-83ba-2a487906534e",
   "metadata": {},
   "source": [
    "core idea is to redistribute the signal acquired with the experimental geometry into a geometry suitable for further analysis - e.g. Reitveld refinement "
   ]
  },
  {
   "cell_type": "code",
   "execution_count": null,
   "id": "206c58c7-782b-4c8c-80ab-daf3d85235fd",
   "metadata": {},
   "outputs": [],
   "source": [
    "#beth \n",
    "#firstly integrate mask previous spectra that has just been thresholded \n",
    "mask = np.load(\"D:/I11 Beamtime July/calib_kap_mask.npy\")\n",
    "\n",
    "# this produces 1D array data Vs 2theta ready for plotting \n",
    "oneD_integrated_plot_thresholded = calibration.integrate1d(\n",
    "    thresholded_frame,\n",
    "    1000,\n",
    "    unit=pyFAI.units.TTH_DEG,\n",
    "    radial_range=[0,30],\n",
    "    mask=mask\n",
    ")\n"
   ]
  },
  {
   "cell_type": "code",
   "execution_count": null,
   "id": "53c1d95f-2cd5-4a4a-96bc-ab0ae9bc53a0",
   "metadata": {},
   "outputs": [],
   "source": [
    "# Re-threshold if noise remains\n",
    "# plot \n",
    "jupyter.plot1d(oneD_integrated_plot_thresholded)\n",
    "plt.title(threshold_pattern_name, fontsize=15)\n",
    "plt.xlabel('$2\\\\theta$ ($^{o}$)')\n",
    "plt.xlim(4, 30)\n",
    "#plt.ylim(-0.1,0.5)\n",
    "plt.ylabel('Intensity')\n",
    "#plt.savefig(processing_path + threshold_pattern_name +\"_1D_plot_zoom\")\n"
   ]
  },
  {
   "cell_type": "code",
   "execution_count": null,
   "id": "d1a0c682-0c00-4934-86b6-8175a0dace46",
   "metadata": {},
   "outputs": [],
   "source": [
    "# Scarlett - Save 1D thresholded plot, XY, and XYE data together\n",
    "\n",
    "# Base directory where everything lives\n",
    "base_dir = r\"D:/I11 Beamtime July/RAW_2D/Run_7_X1_0.5VF/\" #<-----------------CHANGE THIS \n",
    "# Create new directory for outputs\n",
    "save_dir = os.path.join(base_dir, \"03_pyFAI_Thresh_1D_Plot\")\n",
    "os.makedirs(save_dir, exist_ok=True)\n",
    "\n",
    "#1D plot save as png \n",
    "plt.figure(figsize=(10,6))\n",
    "plt.plot(oneD_integrated_plot_thresholded.radial, oneD_integrated_plot_thresholded.intensity, color='black')\n",
    "plt.title(threshold_pattern_name, fontsize=15)\n",
    "plt.xlabel('$2\\\\theta$ ($^{o}$)')\n",
    "plt.ylabel('Intensity')\n",
    "plt.xlim(4, 30)\n",
    "\n",
    "png_path = os.path.join(save_dir, threshold_pattern_name + \"_1D_plot.png\")\n",
    "plt.savefig(png_path, dpi=300, bbox_inches=\"tight\")\n",
    "plt.close()\n",
    "\n",
    "# Extract arrays\n",
    "x_vals = oneD_integrated_plot_thresholded.radial   # 2θ\n",
    "y_vals = oneD_integrated_plot_thresholded.intensity  # Intensity\n",
    "errors = np.sqrt(np.maximum(y_vals, 1))  # simple Poisson estimate\n",
    "\n",
    "#1D plt save as .xy\n",
    "xy_path = os.path.join(save_dir, threshold_pattern_name + \".xy\")\n",
    "np.savetxt(xy_path, np.c_[x_vals, y_vals],\n",
    "           fmt=\"%.6f\", header=\"2theta(deg) Intensity\", comments='')\n",
    "\n",
    "#1D plot save as .xye\n",
    "xye_path = os.path.join(save_dir, threshold_pattern_name + \".xye\")\n",
    "np.savetxt(xye_path, np.c_[x_vals, y_vals, errors],\n",
    "           fmt=\"%.6f\", header=\"2theta(deg) Intensity Error\", comments='')\n",
    "\n",
    "print(f\"Saved plot to: {png_path}\")\n",
    "print(f\"Saved XY data to: {xy_path}\")\n",
    "print(f\"Saved XYE data to: {xye_path}\")\n"
   ]
  },
  {
   "cell_type": "code",
   "execution_count": null,
   "id": "4921d5c2-a250-4f76-bd6a-ca2a7126f013",
   "metadata": {},
   "outputs": [],
   "source": []
  },
  {
   "cell_type": "code",
   "execution_count": null,
   "id": "5da87548-a2dc-4d58-90a6-1cb8d89fe590",
   "metadata": {},
   "outputs": [],
   "source": []
  }
 ],
 "metadata": {
  "kernelspec": {
   "display_name": "Python 3 (ipykernel)",
   "language": "python",
   "name": "python3"
  },
  "language_info": {
   "codemirror_mode": {
    "name": "ipython",
    "version": 3
   },
   "file_extension": ".py",
   "mimetype": "text/x-python",
   "name": "python",
   "nbconvert_exporter": "python",
   "pygments_lexer": "ipython3",
   "version": "3.12.3"
  }
 },
 "nbformat": 4,
 "nbformat_minor": 5
}
