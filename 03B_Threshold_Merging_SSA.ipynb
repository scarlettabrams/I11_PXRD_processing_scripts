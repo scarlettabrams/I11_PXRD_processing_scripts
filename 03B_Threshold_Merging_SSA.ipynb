{
 "cells": [
  {
   "cell_type": "markdown",
   "id": "bd8722af-0610-4740-864f-a95e82e4a8cd",
   "metadata": {},
   "source": [
    "# 03B_Threshold_Merging_SSA"
   ]
  },
  {
   "cell_type": "markdown",
   "id": "f3a401df-70fa-4ea1-90f3-e334d47b8a22",
   "metadata": {},
   "source": [
    "### Developed by SSA "
   ]
  },
  {
   "cell_type": "markdown",
   "id": "3ba08afc-279b-47b5-b12a-40ca5bfe46e3",
   "metadata": {},
   "source": [
    "used for 1D pattern data files within a certain run to identify the best overall Thresholding value for that given run and use this to merge all patterns within that given set. "
   ]
  },
  {
   "cell_type": "markdown",
   "id": "89e1815b-ebb1-427a-a44a-8b83b1462898",
   "metadata": {},
   "source": [
    "### Setup and define file structure "
   ]
  },
  {
   "cell_type": "code",
   "execution_count": null,
   "id": "4bcacb66-7ff0-4c5d-b51b-3c563e3479b9",
   "metadata": {},
   "outputs": [],
   "source": [
    "import os\n",
    "import numpy as np\n",
    "import matplotlib.pyplot as plt\n",
    "import re "
   ]
  },
  {
   "cell_type": "code",
   "execution_count": null,
   "id": "4f18532a-e1b6-4469-9974-59a62cc703b7",
   "metadata": {},
   "outputs": [],
   "source": [
    "# point to the folder of thresholded.xy files \n",
    "datasets_directory = \"D:/I11 Beamtime July/RAW_2D/Run_3_X3_0.5VF/03_pyFAI_Thresh_1D_Plot/\" #\"C:/path/to/your/individual/xy/files/for/merging/\"\n",
    "\n",
    "# Helper function to extract info from filenames\n",
    "def parse_filename(filename):\n",
    "    \"\"\"\n",
    "    Extracts data_number, background_number, and threshold value from filenames like:\n",
    "    108045_bg_108069_threshold_25.xy\n",
    "    \"\"\"\n",
    "    match = re.match(r\"(\\d+)_bg_(\\d+)_threshold_(\\d+)\\.xy\", filename)\n",
    "    if match:\n",
    "        data_num, bg_num, threshold = match.groups()\n",
    "        return int(data_num), int(bg_num), int(threshold)\n",
    "    return None, None, None\n"
   ]
  },
  {
   "cell_type": "code",
   "execution_count": null,
   "id": "479f5f48-fcf5-44fd-b444-58d741973967",
   "metadata": {},
   "outputs": [],
   "source": [
    "# Parse filenames and group by dataset \n",
    "# analyses and seperates into logical components\n",
    "\n",
    "files = [f for f in os.listdir(datasets_directory) if f.endswith(\".xy\")]\n",
    "\n",
    "# Dictionary: { data_num: { threshold_value: filepath } }\n",
    "datasets = {}\n",
    "\n",
    "for file in files:\n",
    "    data_num, bg_num, threshold = parse_filename(file)\n",
    "    if data_num is not None:\n",
    "        if data_num not in datasets:\n",
    "            datasets[data_num] = {}\n",
    "        datasets[data_num][threshold] = os.path.join(datasets_directory, file)\n",
    "\n",
    "print(f\"Found {len(datasets)} unique data sets.\")\n",
    "print(\"Example entry:\")\n",
    "for k, v in list(datasets.items())[:3]:\n",
    "    print(f\"Data {k}: thresholds = {list(v.keys())}\")\n",
    "\n",
    "# NOT NEEDED BUT CAN BE USEFUL - Prints all data sets with all thresholds used:\n",
    "    \n",
    "#for data_num in sorted(datasets.keys()):\n",
    "    # Sort thresholds numerically if possible\n",
    " #   thresholds_sorted = sorted(datasets[data_num].keys(), key=lambda x: float(x))\n",
    "  #  print(f\"Data {data_num}: thresholds = {thresholds_sorted}\")"
   ]
  },
  {
   "cell_type": "markdown",
   "id": "0ee9e19c-ec17-4afd-9eb8-ffa30fc3bc4d",
   "metadata": {},
   "source": [
    "### Visualise all thresholds for each data set "
   ]
  },
  {
   "cell_type": "code",
   "execution_count": null,
   "id": "feeae2f7-7604-4f6b-8c45-66fb471ec568",
   "metadata": {
    "scrolled": true
   },
   "outputs": [],
   "source": [
    "for data_num, thresholds in datasets.items():\n",
    "    plt.figure(figsize=(8, 5))\n",
    "    \n",
    "    for threshold, path in sorted(thresholds.items()):\n",
    "        try:\n",
    "            # skip header row, ignore comments, handle any stray text\n",
    "            data = np.loadtxt(path, skiprows=1, comments='#')\n",
    "            two_theta, intensity = data[:, 0], data[:, 1]\n",
    "            plt.plot(two_theta, intensity, label=f\"threshold {threshold}\")\n",
    "        except Exception as e:\n",
    "            print(f\"⚠️ Could not read {path}: {e}\")\n",
    "            continue\n",
    "\n",
    "    plt.title(f\"Data {data_num} — Comparison of Threshold Levels\", fontsize=14)\n",
    "    plt.xlabel(r\"$2\\theta$ (°)\")\n",
    "    plt.ylabel(\"Intensity (a.u.)\")\n",
    "    plt.legend()\n",
    "    plt.show()\n"
   ]
  },
  {
   "cell_type": "markdown",
   "id": "13e09422-fa98-450c-9f88-f78c2ca00af8",
   "metadata": {},
   "source": [
    "### Determine best threshold value "
   ]
  },
  {
   "cell_type": "code",
   "execution_count": null,
   "id": "b97a296c-10a8-48db-b678-17aaf92bf692",
   "metadata": {},
   "outputs": [],
   "source": [
    "#Automatically select a single balanced threshold\n",
    "\n",
    "threshold_scores = {}\n",
    "\n",
    "for data_num, thresholds in datasets.items():\n",
    "    for threshold, path in thresholds.items():\n",
    "        try:\n",
    "            data = np.loadtxt(path, skiprows=1)\n",
    "            two_theta, intensity = data[:, 0], data[:, 1]\n",
    "\n",
    "            #Balanced \"peak preservation\" metric\n",
    "            mean_int = np.mean(intensity)\n",
    "            std_int = np.std(intensity)\n",
    "            noise_factor = np.mean(np.abs(np.diff(intensity))) / np.max(intensity)\n",
    "\n",
    "            # Score high for sharp peaks but penalise excessive noise\n",
    "            score = (std_int / mean_int) * (1 - noise_factor)\n",
    "\n",
    "            threshold_scores.setdefault(threshold, []).append(score)\n",
    "\n",
    "        except Exception as e:\n",
    "            print(f\"Could not process {path}: {e}\")\n",
    "            continue\n",
    "\n",
    "# Average scores per threshold\n",
    "mean_scores = {t: np.mean(s) for t, s in threshold_scores.items() if len(s) > 0}\n",
    "\n",
    "print(\"\\n Balanced 'peak preservation' scores per threshold:\")\n",
    "for t, score in sorted(mean_scores.items(), key=lambda x: float(x[0])):\n",
    "    print(f\"Threshold {t}: mean score = {score:.4f}\")\n",
    "\n",
    "# Pick best threshold\n",
    "best_threshold_auto = max(mean_scores, key=mean_scores.get)\n",
    "print(f\"\\n Automatically selected balanced global threshold = {best_threshold_auto}\")\n",
    "\n",
    "# Manual override option\n",
    "manual_override = 65  # e.g. set manual_override = 25 to force a value\n",
    "\n",
    "if manual_override is not None:\n",
    "    best_threshold = manual_override\n",
    "    print(f\"✏️ Manual override applied: using threshold = {best_threshold}\")\n",
    "else:\n",
    "    best_threshold = best_threshold_auto\n",
    "\n",
    "print(f\"\\n✅ Final chosen threshold for all datasets = {best_threshold}\")\n",
    "\n",
    "# Plot: score vs threshold\n",
    "plt.figure(figsize=(7, 5))\n",
    "threshold_values = sorted(mean_scores.keys())\n",
    "scores = [mean_scores[t] for t in threshold_values]\n",
    "\n",
    "plt.plot(threshold_values, scores, marker='o', linestyle='-', color='royalblue')\n",
    "plt.axvline(best_threshold, color='red', linestyle='--', label=f\"Selected = {best_threshold}\")\n",
    "plt.title(\"Balanced 'Peak Preservation' Score vs Threshold\", fontsize=14)\n",
    "plt.xlabel(\"Threshold Value\")\n",
    "plt.ylabel(\"Mean Score (higher = better)\")\n",
    "plt.legend()\n",
    "plt.grid(True, alpha=0.3)\n",
    "plt.show()\n"
   ]
  },
  {
   "cell_type": "code",
   "execution_count": null,
   "id": "721830b7-042a-4dcd-84d8-e4b4c38fcdc5",
   "metadata": {},
   "outputs": [],
   "source": [
    "# Extract all data files using the chosen best threshold\n",
    "\n",
    "selected_intensities = []\n",
    "selected_files = []\n",
    "\n",
    "for data_num, thresholds in datasets.items():\n",
    "    if best_threshold in thresholds:\n",
    "        path = thresholds[best_threshold]\n",
    "        data = np.loadtxt(path, skiprows=1)\n",
    "        two_theta, intensity = data[:, 0], data[:, 1]\n",
    "        selected_intensities.append(intensity)\n",
    "        selected_files.append(path)\n",
    "    else:\n",
    "        print(f\"No file found for Data {data_num} with threshold {best_threshold}\")\n",
    "\n",
    "print(f\"\\n Selected {len(selected_intensities)} files for merging using threshold = {best_threshold}\")"
   ]
  },
  {
   "cell_type": "markdown",
   "id": "8a46bd90-b2c5-41be-b049-724a4c2b2fa3",
   "metadata": {},
   "source": [
    "### Merging into single PXRD pattern"
   ]
  },
  {
   "cell_type": "code",
   "execution_count": null,
   "id": "3415af42-c7bc-4fd8-917a-9d1408334ea6",
   "metadata": {},
   "outputs": [],
   "source": [
    "# Merge chosen threshold data into a single averaged pattern\n",
    "\n",
    "if selected_intensities:\n",
    "    merged_array = np.array(selected_intensities)\n",
    "    avg_intensity = np.mean(merged_array, axis=0)\n",
    "    std_intensity = np.std(merged_array, axis=0)    \n",
    "    \n",
    "    plt.figure(figsize=(8, 5))\n",
    "    plt.plot(two_theta, avg_intensity, color='black', label='Merged pattern')\n",
    "    plt.fill_between(two_theta, avg_intensity - std_intensity, avg_intensity + std_intensity,\n",
    "                     color='gray', alpha=0.3, label='±1σ')\n",
    "    plt.title(f\"Merged PXRD Pattern (Threshold = {best_threshold})\", fontsize=14)\n",
    "    plt.xlabel(r\"$2\\theta$ (°)\")\n",
    "    plt.ylabel(\"Intensity (a.u.)\")\n",
    "    plt.legend()\n",
    "    plt.show()\n",
    "else:\n",
    "    print(\"❌ No valid data to merge.\")\n",
    "\n",
    "merged_data = np.column_stack((two_theta, avg_intensity))\n"
   ]
  },
  {
   "cell_type": "code",
   "execution_count": null,
   "id": "a7e75085-7419-47c7-9d3f-7dc81f17f10c",
   "metadata": {},
   "outputs": [],
   "source": [
    "# Zoomed-in view of merged data with optional manual zoom \n",
    "\n",
    "if 'merged_data' not in locals():\n",
    "    raise NameError(\"⚠️ 'merged_data' not found. Please run the merging cell first.\")\n",
    "\n",
    "# Optional manual zoom limits\n",
    "# Set to None to automatically use full range\n",
    "x_min, x_max = 0.5, 25  # e.g. 5, 25\n",
    "y_min, y_max = -0.03, 3.5  # e.g. 0, 100\n",
    "\n",
    "two_theta = merged_data[:, 0]\n",
    "intensity = merged_data[:, 1]\n",
    "\n",
    "# Auto-assign limits if not specified\n",
    "if x_min is None:\n",
    "    x_min = two_theta.min()\n",
    "if x_max is None:\n",
    "    x_max = two_theta.max()\n",
    "if y_min is None:\n",
    "    y_min = intensity.min()\n",
    "if y_max is None:\n",
    "    y_max = intensity.max()\n",
    "\n",
    "# Plot\n",
    "plt.figure(figsize=(8, 5))\n",
    "plt.plot(two_theta, intensity, label='Merged thresholded data', color='blue')\n",
    "plt.title(f'Zoomed-in Merged Data (Threshold = {best_threshold})', fontsize=14)\n",
    "plt.xlabel('$2\\\\theta$ (°)', fontsize=12)\n",
    "plt.ylabel('Intensity (a.u.)', fontsize=12)\n",
    "plt.xlim(x_min, x_max)\n",
    "plt.ylim(y_min, y_max)\n",
    "plt.legend()\n",
    "plt.grid(alpha=0.3)\n",
    "plt.tight_layout()\n",
    "plt.show()\n"
   ]
  },
  {
   "cell_type": "markdown",
   "id": "3d3357d5-7d2b-4aa3-b527-619ff9c01e94",
   "metadata": {},
   "source": [
    "### Save Merged Output "
   ]
  },
  {
   "cell_type": "code",
   "execution_count": null,
   "id": "248df316-f2fd-4a4a-ae0f-2b0034c3b5c4",
   "metadata": {},
   "outputs": [],
   "source": [
    "# Save merged data (.xy and .png) with threshold in name\n",
    "\n",
    "# Ensure these variables are set beforehand:\n",
    "# best_threshold = 25\n",
    "run_id = \"Run_3_X3_0.5VF\"\n",
    "base_directory = \"D:/I11 Beamtime July/RAW_2D/Run_3_X3_0.5VF/\"\n",
    "\n",
    "# Create folder if it doesn't exist\n",
    "save_dir = os.path.join(base_directory, '03B_merged_thresholded')\n",
    "os.makedirs(save_dir, exist_ok=True)\n",
    "\n",
    "# Build filenames (no timestamp)\n",
    "merged_filename = f\"{run_id}_merged_thresholded_thresh_{best_threshold}\"\n",
    "xy_path = os.path.join(save_dir, merged_filename + \".xy\")\n",
    "png_path = os.path.join(save_dir, merged_filename + \".png\")\n",
    "\n",
    "# save merged .xy file \n",
    "np.savetxt(xy_path, merged_data, fmt='%.6f', header='2theta  Intensity', comments='')\n",
    "print(f\"Saved merged data as: {xy_path}\")\n",
    "\n",
    "#save merged .png \n",
    "plt.figure(figsize=(8, 5))\n",
    "plt.plot(merged_data[:, 0], merged_data[:, 1], color='blue')\n",
    "plt.title(f\"Merged Thresholded Data: {run_id} (Threshold = {best_threshold})\")\n",
    "plt.xlabel('$2\\\\theta$ (°)')\n",
    "plt.ylabel('Intensity (a.u.)')\n",
    "plt.grid(alpha=0.3)\n",
    "plt.tight_layout()\n",
    "plt.savefig(png_path, dpi=300)\n",
    "plt.close()\n",
    "print(f\"Saved plot as: {png_path}\")\n"
   ]
  },
  {
   "cell_type": "code",
   "execution_count": null,
   "id": "9201ddc3-044d-44f9-b438-dcd227ad9692",
   "metadata": {},
   "outputs": [],
   "source": []
  }
 ],
 "metadata": {
  "kernelspec": {
   "display_name": "Python 3 (ipykernel)",
   "language": "python",
   "name": "python3"
  },
  "language_info": {
   "codemirror_mode": {
    "name": "ipython",
    "version": 3
   },
   "file_extension": ".py",
   "mimetype": "text/x-python",
   "name": "python",
   "nbconvert_exporter": "python",
   "pygments_lexer": "ipython3",
   "version": "3.12.3"
  }
 },
 "nbformat": 4,
 "nbformat_minor": 5
}
